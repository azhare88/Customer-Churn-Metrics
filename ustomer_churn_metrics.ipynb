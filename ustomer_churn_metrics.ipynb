{
  "nbformat": 4,
  "nbformat_minor": 0,
  "metadata": {
    "colab": {
      "private_outputs": true,
      "provenance": [],
      "mount_file_id": "https://gist.github.com/azhare88/5d9b59d3e084c0f3658b8c10677f2d44#file-ustomer-churn-metrics-ipynb",
      "authorship_tag": "ABX9TyNqPwpi4GLb3sHEgx3dAgvU",
      "include_colab_link": true
    },
    "kernelspec": {
      "name": "python3",
      "display_name": "Python 3"
    },
    "language_info": {
      "name": "python"
    }
  },
  "cells": [
    {
      "cell_type": "markdown",
      "metadata": {
        "id": "view-in-github",
        "colab_type": "text"
      },
      "source": [
        "<a href=\"https://colab.research.google.com/github/azhare88/Customer-Churn-Metrics/blob/main/ustomer_churn_metrics.ipynb\" target=\"_parent\"><img src=\"https://colab.research.google.com/assets/colab-badge.svg\" alt=\"Open In Colab\"/></a>"
      ]
    },
    {
      "cell_type": "markdown",
      "source": [
        "# **Calculate Customer Churn Metrics**\n",
        "Customer churn metrics adalah serangkaian metrik yang digunakan untuk mengukur dan menganalisis tingkat churn, yaitu jumlah pelanggan yang meninggalkan atau berhenti menggunakan layanan atau produk dalam jangka waktu tertentu. Memahami dan mengukur churn penting untuk menjaga pertumbuhan bisnis, karena pelanggan yang setia lebih murah dipertahankan daripada mendapatkan pelanggan baru."
      ],
      "metadata": {
        "id": "B3n8Gvq5K6vY"
      }
    },
    {
      "cell_type": "code",
      "source": [
        "# Import packages\n",
        "import numpy as np\n",
        "import pandas as pd\n",
        "import plotly.express as px\n",
        "\n",
        "# Set the path to your file\n",
        "path = \"/content/drive/MyDrive/Colab Notebooks/Fille/payments.csv\"\n",
        "\n",
        "# Set your date column\n",
        "date_col = \"payment_date\"\n",
        "\n",
        "# Import churn data\n",
        "payments = pd.read_csv(path, parse_dates=[date_col])\n",
        "\n",
        "# Categorize payment periods (optional)\n",
        "payments[\"payment_period\"] = pd.to_datetime(payments[date_col]) + pd.offsets.MonthBegin(-1)\n",
        "\n",
        "# Preview the data\n",
        "payments"
      ],
      "metadata": {
        "id": "vSARfZuZK94j"
      },
      "execution_count": null,
      "outputs": []
    },
    {
      "cell_type": "markdown",
      "source": [
        "# **Net retention rate**\n",
        "Rasio retensi bersih adalah persentase pendapatan berulang yang berasal dari pelanggan yang berlangganan di awal periode.\n",
        "\n",
        "  ![image.png](data:image/png;base64,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)\n",
        "\n",
        "Perlu dicatat bahwa perhitungan ini tidak mencakup pendapatan dari pelanggan baru. Perhitungan ini mencakup dampak churn, upsell (misalnya, pelanggan yang meningkatkan langganan mereka), dan downsell (misalnya, pelanggan yang mengurangi tingkat langganan mereka). Karena perhitungan ini mencakup upsell, rasio retensi bersih adalah ukuran churn yang kurang spesifik dibandingkan ukuran lainnya."
      ],
      "metadata": {
        "id": "o4TDizIKMjnN"
      }
    },
    {
      "cell_type": "code",
      "source": [
        "# Define a function to calculate the net retention rate\n",
        "def nrr(x, dataframe):\n",
        "    # Identify current and previous period based on group\n",
        "    current_period = x[\"payment_period\"].max()\n",
        "    previous_period = current_period - pd.DateOffset(months=1)\n",
        "    # Calculate the previous period's recurring revenue\n",
        "    previous_period_rr = dataframe[dataframe[\"payment_period\"] == previous_period][\"price\"].sum()\n",
        "    # Identify the users in the previous period\n",
        "    previous_period_users = dataframe[dataframe[\"payment_period\"] == previous_period][\"userid\"].unique()\n",
        "    # Calculate the current period's recurring revenue that comes from the previous periods's users\n",
        "    current_period_retained_rr = dataframe[\n",
        "        (dataframe[\"userid\"].isin(previous_period_users))\n",
        "        & (dataframe[\"payment_period\"] == current_period)\n",
        "    ][\"price\"].sum()\n",
        "    # Caculate and return the net retention rate\n",
        "    try:\n",
        "        nrr = current_period_retained_rr / previous_period_rr\n",
        "        return nrr\n",
        "    except:\n",
        "        return None\n",
        "\n",
        "\n",
        "# Group the data by payment period and calculate the net retention rate\n",
        "nrr_data = (\n",
        "    payments.groupby(\"payment_period\")\n",
        "    .apply(nrr, dataframe=payments)\n",
        "    .reset_index(name=\"nrr\")\n",
        ")\n",
        "\n",
        "# Review the data\n",
        "nrr_data"
      ],
      "metadata": {
        "id": "75XWNE4YMRdd"
      },
      "execution_count": null,
      "outputs": []
    },
    {
      "cell_type": "code",
      "source": [
        "fig = px.line(\n",
        "    nrr_data,\n",
        "    x=\"payment_period\",\n",
        "    y=\"nrr\",\n",
        "    title=\"Net Retention Rate by Period\"\n",
        ")\n",
        "\n",
        "fig.show()"
      ],
      "metadata": {
        "id": "AJ1VC2WsPpOc"
      },
      "execution_count": null,
      "outputs": []
    },
    {
      "cell_type": "markdown",
      "source": [
        "# **Standard account churn**\n",
        "Churn akun standar adalah proporsi pelanggan yang membatalkan langganan terhadap jumlah total pelanggan di awal periode. Pelanggan hanya dianggap churn jika mereka membatalkan semua langganan, dan oleh karena itu penjualan turun atau pengurangan jumlah langganan yang dimiliki pelanggan tidak dianggap sebagai churn.\n",
        "\n",
        "![image.png](data:image/png;base64,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)"
      ],
      "metadata": {
        "id": "Bmu7D_EXQnjM"
      }
    },
    {
      "cell_type": "code",
      "source": [
        "# Define a function to calculate the standard account churn\n",
        "def std_churn(x, dataframe):\n",
        "    # Identify current and previous period based on group\n",
        "    current_period = x[\"payment_period\"].max()\n",
        "    previous_period = current_period - pd.DateOffset(months=1)\n",
        "    # Calculate the previous period's total number of users\n",
        "    previous_period_user_count = dataframe[\n",
        "        dataframe[\"payment_period\"] == previous_period\n",
        "    ][\"userid\"].nunique()\n",
        "    # Identify the users in the previous and current periods\n",
        "    previous_period_users = dataframe[dataframe[\"payment_period\"] == previous_period][\"userid\"].unique()\n",
        "    current_period_users = dataframe[dataframe[\"payment_period\"] == current_period][\"userid\"].unique()\n",
        "    # Calculate the number of churned users\n",
        "    churns = len(np.setdiff1d(previous_period_users, current_period_users))\n",
        "    # Caculate and return the standard churn\n",
        "    try:\n",
        "        std_churn = churns / previous_period_user_count\n",
        "        return std_churn\n",
        "    except:\n",
        "        return None\n",
        "\n",
        "\n",
        "# Group the data by payment period and calculate the net retention rate\n",
        "std_churn_data = (\n",
        "    payments.groupby(\"payment_period\")\n",
        "    .apply(std_churn, dataframe=payments)\n",
        "    .reset_index(name=\"std_churn\")\n",
        ")\n",
        "\n",
        "# Review the data\n",
        "std_churn_data"
      ],
      "metadata": {
        "id": "KdVBFbLpQljX"
      },
      "execution_count": null,
      "outputs": []
    },
    {
      "cell_type": "code",
      "source": [
        "fig = px.line(\n",
        "    std_churn_data,\n",
        "    x=\"payment_period\",\n",
        "    y=\"std_churn\",\n",
        "    title=\"Standard Account Churn by Period\",\n",
        ")\n",
        "\n",
        "fig.show()"
      ],
      "metadata": {
        "id": "Uuxdpz_ZTHSY"
      },
      "execution_count": null,
      "outputs": []
    },
    {
      "cell_type": "markdown",
      "source": [
        "# **Monthly recurring revenue churn**\n",
        "Menghitung perputaran pendapatan berulang bulanan\n",
        "Metrik perputaran terakhir yang perlu dicakup adalah \"pendapatan berulang bulanan\", varian dari rasio retensi bersih. Sementara rasio retensi bersih mencakup penjualan tambahan, pendapatan berulang bulanan tidak, karena secara teknis, hal ini tidak termasuk perputaran.\n",
        "\n",
        "![image.png](data:image/png;base64,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)\n",
        "\n",
        "Perputaran pendapatan berulang bulanan adalah metrik yang berguna jika Anda memiliki berbagai harga yang berbeda (misalnya, tingkatan harga yang berbeda). Ini dianggap sebagai definisi perputaran yang lebih akurat karena berfokus secara eksklusif pada penjualan yang lebih rendah dan total perputaran."
      ],
      "metadata": {
        "id": "kguYtOHKUHcq"
      }
    },
    {
      "cell_type": "code",
      "source": [
        "# Define a function to calculate the periodly recurring revenue churn\n",
        "def mrr(x, dataframe):\n",
        "    # Identify current and previous period based on group\n",
        "    current_period = x[\"payment_period\"].max()\n",
        "    previous_period = current_period - pd.DateOffset(months=1)\n",
        "    # Identify total recurring revenue from previous period\n",
        "    previous_period_rr = dataframe[dataframe[\"payment_period\"] == previous_period][\"price\"].sum()\n",
        "    # Identify the users in the previous and current periods\n",
        "    previous_period_users = dataframe[dataframe[\"payment_period\"] == previous_period][\"userid\"].unique()\n",
        "    current_period_users = dataframe[dataframe[\"payment_period\"] == current_period][\"userid\"].unique()\n",
        "    # Identify retained and churned users\n",
        "    retained_users = np.intersect1d(previous_period_users, current_period_users)\n",
        "    churned_users = np.setdiff1d(previous_period_users, current_period_users)\n",
        "    # Identify revenue of retained users in each period\n",
        "    current_period_retained_rr = dataframe[\n",
        "        (dataframe[\"userid\"].isin(retained_users))\n",
        "        & (dataframe[\"payment_period\"] == current_period)\n",
        "    ][\"price\"].values\n",
        "    previous_period_retained_rr = dataframe[\n",
        "        (dataframe[\"userid\"].isin(retained_users))\n",
        "        & (dataframe[\"payment_period\"] == previous_period)\n",
        "    ][\"price\"].values\n",
        "    # Define mask to filter arrays for downsells\n",
        "    downsells = previous_period_retained_rr > current_period_retained_rr\n",
        "    # Calculate total downsell loss\n",
        "    downsell_loss = np.sum(\n",
        "        previous_period_retained_rr[downsells] - current_period_retained_rr[downsells]\n",
        "    )\n",
        "    # Calculate loss to users who churned\n",
        "    churn_loss = dataframe[\n",
        "        (dataframe[\"userid\"].isin(churned_users))\n",
        "        & (dataframe[\"payment_period\"] == previous_period)\n",
        "    ][\"price\"].sum()\n",
        "    # Caculate and return the monthly recurring revenue\n",
        "    try:\n",
        "        mrr = (downsell_loss + churn_loss) / previous_period_rr\n",
        "        return mrr\n",
        "    except:\n",
        "        return None\n",
        "\n",
        "\n",
        "# Group the data by payment period and calculate the monthly recurring revenue churn\n",
        "mrr_data = (\n",
        "    payments.groupby(\"payment_period\")\n",
        "    .apply(mrr, dataframe=payments)\n",
        "    .reset_index(name=\"mrr\")\n",
        ")\n",
        "\n",
        "# Review the data\n",
        "mrr_data"
      ],
      "metadata": {
        "id": "mQ3FwohkUK5d"
      },
      "execution_count": null,
      "outputs": []
    },
    {
      "cell_type": "code",
      "source": [
        "fig = px.line(\n",
        "    mrr_data,\n",
        "    x=\"payment_period\",\n",
        "    y=\"mrr\",\n",
        "    title=\"Recurring Revenue Churn by Period\"\n",
        ")\n",
        "\n",
        "fig.show()"
      ],
      "metadata": {
        "id": "Bokb7yl4UXpa"
      },
      "execution_count": null,
      "outputs": []
    }
  ]
}